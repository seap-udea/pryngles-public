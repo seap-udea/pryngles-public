{
 "cells": [
  {
   "cell_type": "markdown",
   "id": "9154807e",
   "metadata": {
    "id": "gSrYUMXmx5Hj"
   },
   "source": [
    "# Pryngles Tutorials: Developers\n",
    "## Part 3 - Module Spangler"
   ]
  },
  {
   "cell_type": "markdown",
   "id": "d2840de4",
   "metadata": {},
   "source": [
    "This notebook illustrate in detail the interface of the `Pryngles` package. It is especially intended for developers.\n",
    "\n",
    "Authors:\n",
    "- Jorge I. Zuluaga, [jorge.zuluaga@udea.edu.co](mailto:jorge.zuluaga@udea.edu.co)\n",
    "\n",
    "Warnings:\n",
    "- This file was prepared using version 0.7.3.1 of `Pryngles`.\n",
    "- Matplotlib commands run in version 3.5.2."
   ]
  },
  {
   "cell_type": "markdown",
   "id": "da3ab03d",
   "metadata": {},
   "source": [
    "<center><font color='red' size='8'><i>This tutorial is under construction.</i></font></center>"
   ]
  },
  {
   "cell_type": "markdown",
   "id": "f02e2b09",
   "metadata": {},
   "source": [
    "## Preparation"
   ]
  },
  {
   "cell_type": "markdown",
   "id": "23fff249",
   "metadata": {},
   "source": [
    "Before running this tutorial you need to install `Pryngles`:"
   ]
  },
  {
   "cell_type": "code",
   "execution_count": null,
   "id": "16c64161",
   "metadata": {},
   "outputs": [],
   "source": [
    "\"\"\"\n",
    "!python -m pip install -qU pryngles\n",
    "!pip show pryngles\n",
    "#\"\"\";"
   ]
  },
  {
   "cell_type": "markdown",
   "id": "ca956f1a",
   "metadata": {},
   "source": [
    "If you are running this tutrial in `Google Colab` please run the following lines:"
   ]
  },
  {
   "cell_type": "code",
   "execution_count": null,
   "id": "fb9c8eda",
   "metadata": {},
   "outputs": [],
   "source": [
    "\"\"\"\n",
    "import matplotlib.pyplot as plt\n",
    "RESOLUTION = 150\n",
    "%matplotlib inline\n",
    "plt.rcParams['figure.dpi'] = RESOLUTION\n",
    "# Sometimes you need to run twice this magic to be sure the backend is loaded\n",
    "%matplotlib inline\n",
    "#\"\"\";"
   ]
  },
  {
   "cell_type": "markdown",
   "id": "cb9e0332",
   "metadata": {},
   "source": [
    "## Import useful packages"
   ]
  },
  {
   "cell_type": "code",
   "execution_count": null,
   "id": "4df48092",
   "metadata": {},
   "outputs": [],
   "source": [
    "%load_ext autoreload\n",
    "%autoreload 2\n",
    "import numpy as np\n",
    "import pandas as pd\n",
    "import matplotlib.pyplot as plt"
   ]
  },
  {
   "cell_type": "markdown",
   "id": "be2bdfc7",
   "metadata": {},
   "source": [
    "Although it is not a good practice to import everything of a package, for this tutorial and to avoid excesively large names we will import everything from Pryngles:"
   ]
  },
  {
   "cell_type": "code",
   "execution_count": null,
   "id": "d198219e",
   "metadata": {},
   "outputs": [],
   "source": [
    "from pryngles import *"
   ]
  },
  {
   "cell_type": "markdown",
   "id": "402779c4",
   "metadata": {},
   "source": [
    "## Core modules"
   ]
  },
  {
   "cell_type": "markdown",
   "id": "469be8ef",
   "metadata": {},
   "source": [
    "## Spangler (`spangler`)"
   ]
  },
  {
   "cell_type": "markdown",
   "id": "a816428b",
   "metadata": {},
   "source": [
    "This is one of the key modules of `Pryngles`.  Sampling the surface of a body (star, planet or ring) is just the beginning.  In order to compute all the effects for which `Pryngles` was designed we need to build a special object called a `Spangler`."
   ]
  },
  {
   "cell_type": "markdown",
   "id": "be5aee4a",
   "metadata": {},
   "source": [
    "You may create the most simple `Spangler` using:"
   ]
  },
  {
   "cell_type": "code",
   "execution_count": null,
   "id": "f9abd27e",
   "metadata": {},
   "outputs": [],
   "source": [
    "sg=Spangler()"
   ]
  },
  {
   "cell_type": "markdown",
   "id": "3ee398fc",
   "metadata": {},
   "source": [
    "The most important attribute of a `Spangler` is a DataFrame containing the positions and orientations of spangles:"
   ]
  },
  {
   "cell_type": "code",
   "execution_count": null,
   "id": "eb94333b",
   "metadata": {},
   "outputs": [],
   "source": [
    "print_df(sg.data)"
   ]
  },
  {
   "cell_type": "markdown",
   "id": "48be754e",
   "metadata": {},
   "source": [
    "These are the columns in the spangler DataFrame:"
   ]
  },
  {
   "cell_type": "code",
   "execution_count": null,
   "id": "88b6f2bb",
   "metadata": {},
   "outputs": [],
   "source": [
    "sg.data.columns"
   ]
  },
  {
   "cell_type": "markdown",
   "id": "8db35e2a",
   "metadata": {},
   "source": [
    "In order to know the meaning of the columns see:"
   ]
  },
  {
   "cell_type": "code",
   "execution_count": null,
   "id": "d8d64bdb",
   "metadata": {},
   "outputs": [],
   "source": [
    "print(SPANGLER_COLUMNS_DOC)"
   ]
  },
  {
   "cell_type": "markdown",
   "id": "f3dfe9ea",
   "metadata": {},
   "source": [
    "It is important to point out that creating a Spangler only creates the basic structure, the scafold of the Spangler:"
   ]
  },
  {
   "cell_type": "code",
   "execution_count": null,
   "id": "a1f466fc",
   "metadata": {},
   "outputs": [],
   "source": [
    "sg=Spangler(nspangles=1000)\n",
    "print_df(sg.data.head(5))"
   ]
  },
  {
   "cell_type": "markdown",
   "id": "dd66c34b",
   "metadata": {},
   "source": [
    "In order to fill the spangler with actual positions you should use:"
   ]
  },
  {
   "cell_type": "code",
   "execution_count": null,
   "id": "f838b2b6",
   "metadata": {},
   "outputs": [],
   "source": [
    "sg.populate_spangler(shape=\"circle\")\n",
    "print_df(sg.data.head(5))"
   ]
  },
  {
   "cell_type": "markdown",
   "id": "cd44c9fb",
   "metadata": {},
   "source": [
    "To check use the `plot3d` method:"
   ]
  },
  {
   "cell_type": "code",
   "execution_count": null,
   "id": "13091ae1",
   "metadata": {},
   "outputs": [],
   "source": [
    "sg.plot3d()"
   ]
  },
  {
   "cell_type": "markdown",
   "id": "b10cacaa",
   "metadata": {},
   "source": [
    "or the two dimensional version:"
   ]
  },
  {
   "cell_type": "code",
   "execution_count": null,
   "id": "8df573f3",
   "metadata": {},
   "outputs": [],
   "source": [
    "sg.plot2d(coords=\"ecl\")"
   ]
  },
  {
   "cell_type": "markdown",
   "id": "bbaa4299",
   "metadata": {},
   "source": [
    "You may join several spanglers in a single one:"
   ]
  },
  {
   "cell_type": "code",
   "execution_count": null,
   "id": "f54261ee",
   "metadata": {},
   "outputs": [],
   "source": [
    "nspangles=500\n",
    "\n",
    "sg1=Spangler(nspangles=nspangles)\n",
    "sg1.populate_spangler(shape=\"sphere\",spangle_type=SPANGLE_SOLID_ROCK)\n",
    "\n",
    "sg2=Spangler(nspangles=nspangles,n_equ=Science.direction(0,20))\n",
    "sg2.populate_spangler(shape=\"ring\",scale=3,ri=2/3,spangle_type=SPANGLE_GRANULAR)\n",
    "\n",
    "sgj=Spangler(spanglers=[sg1,sg2])\n",
    "sgj.plot3d(coords=\"ecl\")"
   ]
  },
  {
   "cell_type": "markdown",
   "id": "421a39a6",
   "metadata": {},
   "source": [
    "Notice that we have defined the type of spangles to be used.  The type of spangles can be used to differentiate spangles according to their properties.  Type of spangles are:"
   ]
  },
  {
   "cell_type": "code",
   "execution_count": null,
   "id": "3adc143e",
   "metadata": {},
   "outputs": [],
   "source": [
    "[f\"{spangle} = {eval(spangle)}\" for spangle in Consts.get_all() if ('SPANGLE_' in spangle) and ('COLORS' not in spangle)]"
   ]
  },
  {
   "cell_type": "markdown",
   "id": "be310518",
   "metadata": {},
   "source": [
    "In graphical representation, each type of spangle are of a different color.  Additionally, for computing the state of the spangle (visible, illuminated, transmitting) the following special spangles are considered:"
   ]
  },
  {
   "cell_type": "code",
   "execution_count": null,
   "id": "dcb5ea45",
   "metadata": {},
   "outputs": [],
   "source": [
    "SPANGLES_SEMITRANSPARENT"
   ]
  },
  {
   "cell_type": "markdown",
   "id": "e7877aca",
   "metadata": {},
   "source": [
    "You may transform the coordinates of the spangles to any arbitrary system using `set_intersect`:"
   ]
  },
  {
   "cell_type": "code",
   "execution_count": null,
   "id": "65265450",
   "metadata": {},
   "outputs": [],
   "source": [
    "output=sgj.set_intersect(nvec=[0,0,1],center=[2,0,0])"
   ]
  },
  {
   "cell_type": "markdown",
   "id": "575e384a",
   "metadata": {},
   "source": [
    "Here `center` is the position of the origin of the intersection system.  In this case, the distance to the intersection of each spangle is calculated:"
   ]
  },
  {
   "cell_type": "code",
   "execution_count": null,
   "id": "01b7c320",
   "metadata": {},
   "outputs": [],
   "source": [
    "sgj.data.d_int"
   ]
  },
  {
   "cell_type": "markdown",
   "id": "cb3da8c3",
   "metadata": {},
   "source": [
    "You may check how the points looks like:"
   ]
  },
  {
   "cell_type": "code",
   "execution_count": null,
   "id": "416068a8",
   "metadata": {},
   "outputs": [],
   "source": [
    "sgj.plot3d(coords=\"int\")"
   ]
  },
  {
   "cell_type": "markdown",
   "id": "010d17a7",
   "metadata": {},
   "source": [
    "You may plot the location seing from the +z-axis:"
   ]
  },
  {
   "cell_type": "code",
   "execution_count": null,
   "id": "354b722d",
   "metadata": {},
   "outputs": [],
   "source": [
    "sgj.plot2d(coords=\"int\")"
   ]
  },
  {
   "cell_type": "markdown",
   "id": "fee73a20",
   "metadata": {},
   "source": [
    "When you calculate the coordinates of a `Spangler` in an *intersection* system, you may also calculate the convex hulls corresponding to the objects:"
   ]
  },
  {
   "cell_type": "code",
   "execution_count": null,
   "id": "a236749e",
   "metadata": {},
   "outputs": [],
   "source": [
    "sgj._calc_qhulls()\n",
    "sgj._plot_qhulls()"
   ]
  },
  {
   "cell_type": "markdown",
   "id": "f0eac557",
   "metadata": {},
   "source": [
    "Here for instance the convex hull of the ring is blocking some of the spangles of the planet and viceversa."
   ]
  },
  {
   "cell_type": "markdown",
   "id": "17579099",
   "metadata": {},
   "source": [
    "There are two methods using the power of the intersection algorithms:"
   ]
  },
  {
   "cell_type": "code",
   "execution_count": null,
   "id": "377bd3be",
   "metadata": {},
   "outputs": [],
   "source": [
    "#Observer is in the direction of the z-axis\n",
    "sgj.set_observer(nvec=Science.direction(0,90))\n",
    "#Light source is over the x-y plane\n",
    "sgj.set_luz(nvec=Science.direction(135,0))\n",
    "sgj.plot2d(coords=\"obs\")"
   ]
  },
  {
   "cell_type": "markdown",
   "id": "f78bc099",
   "metadata": {},
   "source": [
    "You may see that the size and luminosity of the points in this representation are proportional to the angle between the direction of the light-source and the direction of the observer.  The rings are barely visible because they receive light by transmission."
   ]
  },
  {
   "cell_type": "markdown",
   "id": "4eb8f678",
   "metadata": {},
   "source": [
    "The angles between the normal to the spangles and the direction of the observer and the source of light are in the following columns of the Spangler DataFrame:"
   ]
  },
  {
   "cell_type": "code",
   "execution_count": null,
   "id": "cecbae44",
   "metadata": {},
   "outputs": [],
   "source": [
    "sgj.data[[\"cos_obs\",\"cos_luz\"]]"
   ]
  },
  {
   "cell_type": "markdown",
   "id": "aee61dfc",
   "metadata": {},
   "source": [
    "The state of the spangles can be checked in the following columns:"
   ]
  },
  {
   "cell_type": "code",
   "execution_count": null,
   "id": "9507f001",
   "metadata": {},
   "outputs": [],
   "source": [
    "sgj.data[list(SPANGLER_SOURCE_STATES)+list(SPANGLER_VISIBILITY_STATES)]"
   ]
  },
  {
   "cell_type": "markdown",
   "id": "800a5070",
   "metadata": {},
   "source": [
    "You may also check the states of the spangles using:"
   ]
  },
  {
   "cell_type": "code",
   "execution_count": null,
   "id": "204d7760",
   "metadata": {},
   "outputs": [],
   "source": [
    "sgj.plot3d(coords=\"ecl\",statemark=0.05)"
   ]
  },
  {
   "cell_type": "markdown",
   "id": "09b20a92",
   "metadata": {},
   "source": [
    "You may illuminate independently two objects"
   ]
  },
  {
   "cell_type": "code",
   "execution_count": null,
   "id": "13113347",
   "metadata": {},
   "outputs": [],
   "source": [
    "sg1=Spangler(name=\"Planet 1\",nspangles=100,center_equ=[-5,0,0])\n",
    "sg1.populate_spangler(shape=\"sphere\",spangle_type=SPANGLE_LIQUID,preset=True,scale=3)\n",
    "\n",
    "sg2=Spangler(name=\"Planet 2\",nspangles=100,center_equ=[+5,0,0])\n",
    "sg2.populate_spangler(shape=\"sphere\",spangle_type=SPANGLE_SOLID_ROCK,preset=True,scale=3)\n",
    "\n",
    "sg=Spangler(spanglers=[sg1,sg2])\n",
    "\n",
    "sg.set_observer([0,1,0])\n",
    "sg.set_luz(nvec=[1,0,0],center=[0,0,0],name=\"Planet 1\")\n",
    "sg.set_luz(nvec=[-1,0,0],center=[0,0,0],name=\"Planet 2\")\n",
    "\n",
    "sg.plot3d()"
   ]
  },
  {
   "cell_type": "markdown",
   "id": "422f7e1a",
   "metadata": {},
   "source": [
    "The most interesting method if the `Spangler` module is that calculating the intersections between bodies."
   ]
  },
  {
   "cell_type": "code",
   "execution_count": null,
   "id": "4bdb5bc6",
   "metadata": {},
   "outputs": [],
   "source": [
    "sps=[]\n",
    "sg=Spangler(nspangles=nspangles,name=\"Parent\",n_equ=[0,0,1],center_equ=[-7,0,0])\n",
    "sg.populate_spangler(shape=\"sphere\",spangle_type=SPANGLE_STELLAR,scale=3,seed=1,preset=1)\n",
    "sps+=[sg]\n",
    "sg=Spangler(nspangles=nspangles,name=\"Ring\",n_equ=[1,0,0])\n",
    "sg.populate_spangler(shape=\"ring\",spangle_type=SPANGLE_GRANULAR,scale=2.5,seed=1,ri=1.5/2.5,boundary=0)\n",
    "sps+=[sg]\n",
    "sg=Spangler(nspangles=nspangles,name=\"Planet\",n_equ=[0,0,1])\n",
    "sg.populate_spangler(shape=\"sphere\",spangle_type=SPANGLE_SOLID_ROCK,scale=1,seed=1,preset=True)\n",
    "sps+=[sg]\n",
    "sg=Spangler(nspangles=nspangles,name=\"Moon\",n_equ=[0,0,1],center_equ=[+3.0,0.0,0.0])\n",
    "sg.populate_spangler(shape=\"sphere\",spangle_type=SPANGLE_ATMOSPHERIC,scale=0.3,seed=1,preset=True)\n",
    "sps+=[sg]\n",
    "\n",
    "sg=Spangler(spanglers=sps)\n",
    "\n",
    "sg.set_luz(nvec=sci.direction(10,0))\n",
    "sg.update_illumination_state()\n",
    "\n",
    "sg.set_observer(nvec=sci.direction(30,20))\n",
    "sg.update_visibility_state()\n",
    "\n",
    "sg.plot2d(center_at=\"Ring\")"
   ]
  },
  {
   "cell_type": "markdown",
   "id": "bc61069c",
   "metadata": {},
   "source": [
    "You may notice that the spangles that are not visible, does not appear in this plot.  Additionally the spangles which are not illuminated appears in a dark color."
   ]
  },
  {
   "cell_type": "markdown",
   "id": "625f10fb",
   "metadata": {},
   "source": [
    "When you check the spangles in 3d you may also notice the different states:"
   ]
  },
  {
   "cell_type": "code",
   "execution_count": null,
   "id": "e1d08511",
   "metadata": {},
   "outputs": [],
   "source": [
    "sg.plot3d(center_at=\"Ring\")"
   ]
  },
  {
   "cell_type": "markdown",
   "id": "6c4c9d64",
   "metadata": {},
   "source": [
    "You may even interact with the system:"
   ]
  },
  {
   "cell_type": "code",
   "execution_count": null,
   "id": "25cd54d4",
   "metadata": {},
   "outputs": [],
   "source": [
    "sg._interact_plot2d()"
   ]
  },
  {
   "cell_type": "markdown",
   "id": "21c00567",
   "metadata": {},
   "source": [
    "Or animate:"
   ]
  },
  {
   "cell_type": "code",
   "execution_count": null,
   "id": "baae0f95",
   "metadata": {},
   "outputs": [],
   "source": [
    "nspangles=500\n",
    "sps=[]\n",
    "sg=Spangler(nspangles=nspangles,name=\"Parent\",n_equ=[0,0,1],center_equ=[-7,0,0])\n",
    "sg.populate_spangler(shape=\"sphere\",spangle_type=SPANGLE_STELLAR,scale=3,seed=1,preset=1)\n",
    "sps+=[sg]\n",
    "sg=Spangler(nspangles=nspangles,name=\"Ring\",n_equ=sci.direction(0,80))\n",
    "sg.populate_spangler(shape=\"ring\",spangle_type=SPANGLE_GRANULAR,scale=2.5,seed=1,ri=1.5/2.5,boundary=0)\n",
    "sps+=[sg]\n",
    "sg=Spangler(nspangles=nspangles,name=\"Planet\",n_equ=[0,0,1])\n",
    "sg.populate_spangler(shape=\"sphere\",spangle_type=SPANGLE_SOLID_ROCK,scale=1,seed=1,preset=True)\n",
    "sps+=[sg]\n",
    "sg=Spangler(nspangles=nspangles,name=\"Moon\",n_equ=[0,0,1],center_equ=[+3.0,0.0,0.0])\n",
    "sg.populate_spangler(shape=\"sphere\",spangle_type=SPANGLE_ATMOSPHERIC,scale=0.3,seed=1,preset=True)\n",
    "sps+=[sg]\n",
    "\n",
    "sg=Spangler(spanglers=sps)\n",
    "\n",
    "nobs=Plot.calc_flyby(normal=[0,0,1],start=0,stop=360,num=1,lat=30)\n",
    "nluz=Plot.calc_flyby(normal=[0,0,1],start=0,stop=360,num=5,lat=20)\n",
    "\n",
    "#anim,dirs=sg._animate_plot2d(nobs=nobs,nluz=nluz,interval=100,center_at=\"Ring\",axis=False,not_plot=[\"Parent\"])\n",
    "anim,dirs=sg._animate_plot2d(filename=\"/tmp/flyby-plot2d-luz.gif\",nobs=nobs,nluz=nluz,interval=100,center_at=\"Ring\",axis=False)"
   ]
  },
  {
   "cell_type": "code",
   "execution_count": null,
   "id": "951b4c2b",
   "metadata": {},
   "outputs": [],
   "source": [
    "nobs=Plot.calc_flyby(normal=[0,0,1],start=0,stop=360,num=1,lat=30)\n",
    "nluz=Plot.calc_flyby(normal=[0,0,1],start=0,stop=360,num=20,lat=20)\n",
    "\n",
    "sg.plot2d(newfig=True)\n",
    "anim,dirs=sg._animate_plot2d(nobs=nobs,nluz=nluz,interval=1000,center_at=\"Ring\",axis=False)"
   ]
  },
  {
   "cell_type": "markdown",
   "id": "65319328",
   "metadata": {},
   "source": [
    "Pryngles compute the direction on which light arrives into a planet:"
   ]
  },
  {
   "cell_type": "code",
   "execution_count": null,
   "id": "d765e7d1",
   "metadata": {},
   "outputs": [],
   "source": [
    "sg=Spangler(nspangles=500,n_equ=[0,1,1])\n",
    "sg.populate_spangler(shape=\"sphere\",scale=3,seed=1)\n",
    "sg.set_observer(nvec=[0,0,1])\n",
    "sg.set_luz(nvec=[1,0,0])\n",
    "\n",
    "coords=\"obs\"\n",
    "sg.plot2d(coords=coords,show_azim=True)"
   ]
  },
  {
   "cell_type": "markdown",
   "id": "3eaa4ed2",
   "metadata": {},
   "source": [
    "--- \n",
    "*The authors*, Last update: september, 2022."
   ]
  }
 ],
 "metadata": {
  "kernelspec": {
   "display_name": "Python 3 (ipykernel)",
   "language": "python",
   "name": "python3"
  },
  "language_info": {
   "codemirror_mode": {
    "name": "ipython",
    "version": 3
   },
   "file_extension": ".py",
   "mimetype": "text/x-python",
   "name": "python",
   "nbconvert_exporter": "python",
   "pygments_lexer": "ipython3",
   "version": "3.9.7"
  }
 },
 "nbformat": 4,
 "nbformat_minor": 5
}
